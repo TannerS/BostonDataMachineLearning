{
 "cells": [
  {
   "cell_type": "code",
   "execution_count": 296,
   "metadata": {
    "collapsed": true
   },
   "outputs": [],
   "source": [
    "# The modules we're going to use\n",
    "from __future__ import print_function\n",
    "from sklearn import preprocessing\n",
    "from sklearn.model_selection import train_test_split\n",
    "from sklearn import datasets, linear_model\n",
    "from sklearn import metrics\n",
    "from scipy import linalg\n",
    "import numpy as np\n",
    "import matplotlib.pyplot as plt\n",
    "\n",
    "# When you execute a code to plot with a simple SHIFT-ENTER, the plot will be shown directly under the code cell\n",
    "%matplotlib inline"
   ]
  },
  {
   "cell_type": "code",
   "execution_count": 297,
   "metadata": {},
   "outputs": [],
   "source": [
    "# Load data from scikit-learn, which returns (data, target)\n",
    "# note: if you call \"boston = load_boston()\", it returns a dictionary-like object\n",
    "data, target = datasets.load_boston(True)\n",
    "\n",
    "# Split the data into two parts: training data and testing data\n",
    "train_data,test_data,train_target,test_target = train_test_split(data,(target[:, np.newaxis]), test_size=0.2, random_state=42)"
   ]
  },
  {
   "cell_type": "code",
   "execution_count": 306,
   "metadata": {
    "collapsed": true
   },
   "outputs": [
    {
     "name": "stdout",
     "output_type": "stream",
     "text": [
      "\nCoefficients:  [[-0.996232    0.69558769  0.28047684  0.71933958 -2.02678678  3.14074199\n  -0.17447147 -3.08322662  2.24869616 -1.76573775 -2.03984933  1.13874218\n  -3.61718128]]\n\nIntercepts:  [ 22.79653465]\n\nTraining Error:  10.8207870483\nTesting Error:  12.1557134648\n"
     ]
    },
    {
     "data": {
      "image/png": "[encoded data removed]",
      "text/plain": [
       "<matplotlib.figure.Figure at 0x7f226f9c20f0>"
      ]
     },
     "metadata": {},
     "output_type": "display_data"
    }
   ],
   "source": [
    "# Sources\n",
    "\n",
    "# http://scikit-learn.org/stable/modules/generated/sklearn.linear_model.LinearRegression.html#sklearn.linear_model.LinearRegression\n",
    "# http://scikit-learn.org/stable/auto_examples/linear_model/plot_ols.html\n",
    "# http://stackoverflow.com/questions/6148207/linear-regression-with-matplotlib-numpy\n",
    "# http://scikit-learn.org/stable/auto_examples/linear_model/plot_ols.html\n",
    "# http://matplotlib.org/api/pyplot_api.html\n",
    "# https://medium.com/@haydar_ai/learning-data-science-day-9-linear-regression-on-boston-housing-dataset-cd62a80775ef\n",
    "# http://www.bigdataexaminer.com/2016/03/31/how-to-run-linear-regression-in-python-scikit-learn/\n",
    "# http://scikit-learn.org/stable/modules/generated/sklearn.metrics.mean_squared_error.html\n",
    "# http://scikit-learn.org/stable/auto_examples/linear_model/plot_ols.html\n",
    "\n",
    "# Square error function\n",
    "def sqrMean(X, Y):\n",
    "    #return (metrics.mean_squared_error(X, Y) * .5)\n",
    "    return (np.mean((X - Y) ** 2)) / 2\n",
    "\n",
    "# Task 1-1: use linear regression in sklearn\n",
    "\n",
    "# creating linear regression model object with default parameters\n",
    "model = linear_model.LinearRegression()\n",
    "\n",
    "# fitting model with training X,Y data. We are training the model with the training data at this time\n",
    "model.fit(train_data, train_target)\n",
    "\n",
    "# Task 1-2: show intercept and coefficients\n",
    "print()\n",
    "print('Coefficients: ', model.coef_)\n",
    "print()\n",
    "print('Intercepts: ', model.intercept_)\n",
    "\n",
    "# Here we are getting a prediction using the training data\n",
    "trained_results = model.predict(train_data)\n",
    "\n",
    "# Here we are getting a prediction using the testing data\n",
    "tested_results = model.predict(test_data)\n",
    "\n",
    "# get error from both data sets \n",
    "train_error = sqrMean(train_target, trained_results)\n",
    "test_error = sqrMean(test_target, tested_results)\n",
    "\n",
    "# Task 1-3: show errors on training dataset and testing dataset\n",
    "\n",
    "# Print out both data sets error based on model fitted using the training data\n",
    "print()\n",
    "print('Training Error: ', train_error)\n",
    "print('Testing Error: ', test_error)\n",
    "\n",
    "# Task 1-4: show plot a figure to show your predictions and real prices on the testing data set\n",
    "\n",
    "# # set x axis label\n",
    "# plt.xlabel(\"Target\")\n",
    "# # set y axis label\n",
    "# plt.ylabel(\"Predicted Target\")\n",
    "# # set chart title\n",
    "# plt.title(\"Target prices vs Predicted prices\")\n",
    "# # plot the predicted values of the test data\n",
    "# plt.plot(model.predict(np.matrix(test_data)))\n",
    "# # plot the true values of the test data\n",
    "# plt.plot(np.matrix(test_target))\n",
    "# # show the chart\n",
    "# plt.show()\n",
    "\n",
    "# set x axis label\n",
    "plt.xlabel(\"Target\")\n",
    "# set y axis label\n",
    "plt.ylabel(\"Predicted Target\")\n",
    "# set chart title\n",
    "plt.title(\"Target prices vs Predicted prices\")\n",
    "# plot the predicted values of the test data\n",
    "plt.scatter(np.matrix(test_target), model.predict(np.matrix(test_data)))\n",
    "# show the chart\n",
    "plt.show()"
   ]
  },
  {
   "cell_type": "code",
   "execution_count": 307,
   "metadata": {},
   "outputs": [
    {
     "name": "stdout",
     "output_type": "stream",
     "text": [
      "\nIntercepts:  [ 22.79653465]\n\nCoefficients:  [[-0.996232  ]\n [ 0.69558769]\n [ 0.28047684]\n [ 0.71933958]\n [-2.02678678]\n [ 3.14074199]\n [-0.17447147]\n [-3.08322662]\n [ 2.24869616]\n [-1.76573775]\n [-2.03984933]\n [ 1.13874218]\n [-3.61718128]]\n\n\nTraining Error:  [[ 10.82078705]]\nTesting Error:  [[ 12.15571346]]\n"
     ]
    },
    {
     "data": {
      "image/png": "[encoded data removed]",
      "text/plain": [
       "<matplotlib.figure.Figure at 0x7f226f8a6898>"
      ]
     },
     "metadata": {},
     "output_type": "display_data"
    }
   ],
   "source": [
    "# Sources\n",
    "\n",
    "# http://anwarruff.com/normal-equation/\n",
    "\n",
    "# loss function of linear regression\n",
    "def lossFunc(N, features, targets, weights):\n",
    "    t = targets\n",
    "    X = features\n",
    "    w = weights\n",
    "    partial_mean = (1/(2*N))\n",
    "    Xw = np.matmul(X, w)\n",
    "    offset = np.subtract(t, Xw)\n",
    "    return (partial_mean * np.matmul(np.transpose(offset), offset))\n",
    "\n",
    "# Task 2-1: Implement a function solving normal equation \n",
    "\n",
    "# Inputs: Training data (X) and training label (target/y)\n",
    "# Output: Weights\n",
    "def myNormalEqualFun(X,y):\n",
    "    # get transpose of X\n",
    "    Xt = np.transpose(X)\n",
    "    #w = np.matmul((np.matmul((np.matmul(Xt, X) ** -1), Xt)), y)\n",
    "    # The x transpose is being multiplied by x and that result is to the power of -1\n",
    "    w_partial_one = np.linalg.inv(np.dot(Xt, X))\n",
    "    # the other part of the equation consist of multiplying the x transpose by the target vector\n",
    "    w_partial_two = np.dot(w_partial_one, Xt)\n",
    "    # lastly, we multiply both parts \n",
    "    w = np.dot(w_partial_two, y)\n",
    "    # return the weights\n",
    "    return w\n",
    "    \n",
    "# Task 2-2: Implement a function performing prediction\n",
    "\n",
    "# Inputs: Testing data and weights\n",
    "# Output: Predictions\n",
    "def myPredictFun(X,w):\n",
    "    #**************************************************************************transpose does nothing\n",
    "    return np.transpose(np.dot(np.transpose(np.matrix(w)), np.transpose(np.matrix(X))))\n",
    "\n",
    "# Here we insert a column of 1s into training_data and test_data (to be consistent with our lecture slides)\n",
    "train_data_intercept = np.insert(train_data, 0, 1, axis=1)\n",
    "test_data_intercept = np.insert(test_data, 0, 1, axis=1)\n",
    "\n",
    "# Here we call myNormalEqual to train the model and get weights\n",
    "w = myNormalEqualFun(train_data_intercept,train_target)\n",
    "\n",
    "# print('debug2')\n",
    "# print((np.transpose(np.matrix(w))).shape)\n",
    "# # print(w.shape)\n",
    "# print('debug2')\n",
    "\n",
    "# Task 2-3: show intercept and coefficents\n",
    "print()\n",
    "print('Intercepts: ', w[0])\n",
    "print()\n",
    "print('Coefficients: ', w[1:])\n",
    "print()\n",
    "\n",
    "# Task 2-4: show errors on training dataset and testing dataset\n",
    "training_error = lossFunc(len(train_target), train_data_intercept, train_target, w)\n",
    "testing_error = lossFunc(len(test_target), test_data_intercept, test_target, w)\n",
    "\n",
    "print()\n",
    "print('Training Error: ', training_error)\n",
    "print('Testing Error: ', testing_error)\n",
    "\n",
    "# Task 2-5: show plot a figure to show your predictions and real prices on the testing dataset\n",
    "\n",
    "# print('debug')\n",
    "# print((np.transpose(train_data_intercept)).shape)\n",
    "# # print(train_data_intercept.shape)\n",
    "# print('debug')\n",
    "\n",
    "# # set x axis label.snp.tr\n",
    "# plt.xlabel(\"Target\")\n",
    "# # set y axis label\n",
    "# plt.ylabel(\"Predicted Target\")\n",
    "# # set chart title\n",
    "# plt.title(\"Target prices vs Predicted prices\")\n",
    "# # plot the predicted values of the test data\n",
    "# #*************************************************************************************************************************\n",
    "# plt.plot(np.matrix(myPredictFun(test_data_intercept, w)))\n",
    "# # plot the true values of the test data\n",
    "# plt.plot(np.matrix(test_target))\n",
    "# # show the chart\n",
    "# plt.show()\n",
    "\n",
    "# set x axis label\n",
    "plt.xlabel(\"Target\")\n",
    "# set y axis label\n",
    "plt.ylabel(\"Predicted Target\")\n",
    "# set chart title\n",
    "plt.title(\"Target prices vs Predicted prices\")\n",
    "# plot the predicted values of the test data\n",
    "plt.scatter(np.matrix(test_target), np.matrix(myPredictFun(test_data_intercept, w)))\n",
    "# show the chart\n",
    "plt.show()"
   ]
  },
  {
   "cell_type": "code",
   "execution_count": 300,
   "metadata": {
    "collapsed": false
   },
   "outputs": [],
   "source": [
    ""
   ]
  },
  {
   "cell_type": "code",
   "execution_count": 300,
   "metadata": {
    "collapsed": false
   },
   "outputs": [],
   "source": [
    ""
   ]
  },
  {
   "cell_type": "code",
   "execution_count": 300,
   "metadata": {},
   "outputs": [],
   "source": [
    "# Feature scaling\n",
    "scaler = preprocessing.StandardScaler().fit(train_data)\n",
    "train_data = scaler.transform(train_data)\n",
    "test_data = scaler.transform(test_data)\n",
    "\n",
    "\n",
    "# Task 3-1: Implement a function performing gradient descent\n",
    "# Inputs: Training data, training label, leaerning rate, number of iterations\n",
    "# Output: Weights\n",
    "def myGradientDescentFun(X,y,learning_rate,numItrs):\n",
    "    return \n",
    "\n",
    "# Task 3-2: Implement a function performing prediction\n",
    "# Inputs: Testing data and weights\n",
    "# Output: Predictions\n",
    "def myPredictFun(X,w):\n",
    "    return\n",
    "\n",
    "# Here we insert a column of 1s into training_data and test_data (to be consistent with our lecture slides)\n",
    "train_data_intercept = np.insert(train_data, 0, 1, axis=1)\n",
    "test_data_intercept = np.insert(test_data, 0, 1, axis=1)\n",
    "\n",
    "# Here we call myGradientDescentFun to train the model and get weights\n",
    "# Note: you need to figure out good learning rate value and the number of iterations\n",
    "w = myGradientDescentFun(train_data_intercept,train_target,0,0)\n",
    "\n",
    "# Task 3-3: show intercept and coefficents\n",
    "\n",
    "\n",
    "# Task 3-4: show errors on training dataset and testing dataset\n",
    "\n",
    "\n",
    "# Task 3-5: show plot a figure to show your predictions and real prices on the testing dataset"
   ]
  },
  {
   "cell_type": "code",
   "execution_count": null,
   "metadata": {},
   "outputs": [],
   "source": [
    ""
   ]
  }
 ],
 "metadata": {
  "kernelspec": {
   "display_name": "Python 2",
   "language": "python",
   "name": "python2"
  },
  "language_info": {
   "codemirror_mode": {
    "name": "ipython",
    "version": 2.0
   },
   "file_extension": ".py",
   "mimetype": "text/x-python",
   "name": "python",
   "nbconvert_exporter": "python",
   "pygments_lexer": "ipython2",
   "version": "2.7.6"
  }
 },
 "nbformat": 4,
 "nbformat_minor": 0
}